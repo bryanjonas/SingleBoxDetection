{
 "cells": [
  {
   "cell_type": "code",
   "execution_count": 1,
   "metadata": {},
   "outputs": [],
   "source": [
    "from PIL import Image, ImageDraw\n",
    "import numpy as np"
   ]
  },
  {
   "cell_type": "code",
   "execution_count": 2,
   "metadata": {},
   "outputs": [],
   "source": [
    "imageMaxWidth = 12\n",
    "imageMaxHeight = 12\n",
    "numImages = 10000\n",
    "minSize = 2\n",
    "maxSize = 6\n",
    "bgColor = 'white'\n",
    "\n",
    "\n",
    "black = (0,0,0)\n",
    "shapeColor = black"
   ]
  },
  {
   "cell_type": "code",
   "execution_count": 4,
   "metadata": {},
   "outputs": [],
   "source": [
    "for imgNum in range(0,numImages):\n",
    "    shapeWidth = int(np.random.randint(minSize, maxSize, 1))\n",
    "    shapeHeight = int(np.random.randint(minSize, maxSize, 1))\n",
    "    topCornerX = int(np.random.randint(0, imageMaxWidth, 1))\n",
    "    topCornerY = int(np.random.randint(0, imageMaxHeight, 1))\n",
    "    img = Image.new('RGB', (imageMaxWidth,imageMaxHeight), bgColor)\n",
    "    pixels = img.load()\n",
    "    bottomCornerX = min(topCornerX+shapeWidth, imageMaxWidth)\n",
    "    bottomCornerY = min(topCornerY+shapeHeight, imageMaxHeight)\n",
    "    for y in range(topCornerY, bottomCornerY):\n",
    "        for x in range(topCornerX, bottomCornerX):\n",
    "            #print(x,',',y)\n",
    "            pixels[x,y] = shapeColor\n",
    "    supString = '-' + str(topCornerX) + str(topCornerY) + str(bottomCornerX-topCornerX) + str(bottomCornerY-topCornerY)\n",
    "    filename = 'trainImages/image' + str(imgNum) + supString + '.png'\n",
    "    img.save(filename, quality=100, format='png', subsampling=0, optimize=False)"
   ]
  },
  {
   "cell_type": "code",
   "execution_count": null,
   "metadata": {},
   "outputs": [],
   "source": []
  }
 ],
 "metadata": {
  "kernelspec": {
   "display_name": "Python 3",
   "language": "python",
   "name": "python3"
  },
  "language_info": {
   "codemirror_mode": {
    "name": "ipython",
    "version": 3
   },
   "file_extension": ".py",
   "mimetype": "text/x-python",
   "name": "python",
   "nbconvert_exporter": "python",
   "pygments_lexer": "ipython3",
   "version": "3.6.8"
  }
 },
 "nbformat": 4,
 "nbformat_minor": 2
}
